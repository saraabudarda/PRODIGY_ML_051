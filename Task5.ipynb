{
  "cells": [
    {
      "cell_type": "markdown",
      "metadata": {
        "id": "_IrNtnsvez9a"
      },
      "source": [
        "# Data Loading AND Data Preprocessing"
      ]
    },
    {
      "cell_type": "code",
      "execution_count": 2,
      "metadata": {
        "id": "aXw3o6l8e1WJ"
      },
      "outputs": [],
      "source": [
        "#Load necessary libraries\n",
        "import numpy as np\n",
        "import cv2\n",
        "from tensorflow.keras.applications import VGG16\n",
        "from tensorflow.keras.applications.vgg16 import preprocess_input\n",
        "from tensorflow.keras.preprocessing.image import ImageDataGenerator\n",
        "from tensorflow.keras.layers import Dense, Flatten\n",
        "from tensorflow.keras.models import Model\n",
        "from sklearn.svm import SVC\n",
        "from sklearn.metrics import accuracy_score\n",
        "from sklearn.model_selection import train_test_split\n"
      ]
    },
    {
      "cell_type": "code",
      "execution_count": 3,
      "metadata": {
        "colab": {
          "base_uri": "https://localhost:8080/"
        },
        "id": "FSWxs2zHe4hx",
        "outputId": "4e0b54e0-c8b4-49fb-f9e8-7c201e2f8d28"
      },
      "outputs": [
        {
          "output_type": "stream",
          "name": "stdout",
          "text": [
            "Mounted at /content/drive\n"
          ]
        }
      ],
      "source": [
        "from google.colab import drive\n",
        "drive.mount('/content/drive')\n"
      ]
    },
    {
      "cell_type": "code",
      "execution_count": 4,
      "metadata": {
        "id": "AkiniMV4fA8N"
      },
      "outputs": [],
      "source": [
        "import os\n",
        "import zipfile\n",
        "\n",
        "# Download the dataset and unzip it\n",
        "dataset_path = '/content/drive/MyDrive/Food/food-101.zip'\n",
        "with zipfile.ZipFile(dataset_path, 'r') as zip_ref:\n",
        "    zip_ref.extractall('/content/Food')\n"
      ]
    },
    {
      "cell_type": "markdown",
      "metadata": {
        "id": "V-xrSskFlZi4"
      },
      "source": [
        "Get Unique Categories\n"
      ]
    },
    {
      "cell_type": "code",
      "execution_count": 5,
      "metadata": {
        "colab": {
          "base_uri": "https://localhost:8080/"
        },
        "id": "p50o7GgggGHu",
        "outputId": "3b6b92d6-03e9-4fc5-a9b1-fc3e0cee2c3a"
      },
      "outputs": [
        {
          "output_type": "stream",
          "name": "stdout",
          "text": [
            "Unique Categories:\n",
            "['tuna_tartare', 'lasagna', 'caesar_salad', 'chicken_curry', 'cheesecake', 'filet_mignon', 'spring_rolls', 'churros', 'paella', 'oysters', 'beet_salad', 'clam_chowder', 'pizza', 'bibimbap', 'pad_thai', 'spaghetti_bolognese', 'pulled_pork_sandwich', 'garlic_bread', 'strawberry_shortcake', 'dumplings', 'sashimi', 'carrot_cake', 'breakfast_burrito', 'baklava', 'chicken_quesadilla', 'omelette', 'gyoza', 'falafel', 'chocolate_cake', 'steak', 'macaroni_and_cheese', 'cannoli', 'seaweed_salad', 'cup_cakes', 'shrimp_and_grits', 'beef_tartare', '.DS_Store', 'mussels', 'crab_cakes', 'poutine', 'caprese_salad', 'donuts', 'ravioli', 'lobster_roll_sandwich', 'baby_back_ribs', 'hamburger', 'grilled_cheese_sandwich', 'huevos_rancheros', 'nachos', 'eggs_benedict', 'ramen', 'french_fries', 'risotto', 'cheese_plate', 'fried_calamari', 'pork_chop', 'sushi', 'ceviche', 'greek_salad', 'edamame', 'fried_rice', 'tiramisu', 'pancakes', 'bread_pudding', 'deviled_eggs', 'chocolate_mousse', 'grilled_salmon', 'ice_cream', 'takoyaki', 'panna_cotta', 'croque_madame', 'escargots', 'hot_and_sour_soup', 'guacamole', 'frozen_yogurt', 'fish_and_chips', 'french_onion_soup', 'foie_gras', 'prime_rib', 'red_velvet_cake', 'apple_pie', 'miso_soup', 'creme_brulee', 'onion_rings', 'club_sandwich', 'hot_dog', 'samosa', 'hummus', 'pho', 'bruschetta', 'waffles', 'french_toast', 'beef_carpaccio', 'gnocchi', 'spaghetti_carbonara', 'macarons', 'scallops', 'chicken_wings', 'tacos', 'beignets', 'peking_duck', 'lobster_bisque']\n"
          ]
        }
      ],
      "source": [
        "import os\n",
        "import random\n",
        "import glob\n",
        "import pandas as pd\n",
        "from PIL import Image\n",
        "\n",
        "# Define the main directory containing food categories\n",
        "dataset_dir = '/content/Food/food-101/images'\n",
        "\n",
        "# Get unique categories (folder names)\n",
        "categories = os.listdir(dataset_dir)\n",
        "print(\"Unique Categories:\")\n",
        "print(categories)\n"
      ]
    },
    {
      "cell_type": "code",
      "source": [],
      "metadata": {
        "id": "G0fdESc43Lvk"
      },
      "execution_count": 5,
      "outputs": []
    },
    {
      "cell_type": "code",
      "execution_count": 6,
      "metadata": {
        "id": "U6GVmRDUSGL0",
        "colab": {
          "base_uri": "https://localhost:8080/"
        },
        "outputId": "b2c6e09b-fb3a-4fd6-cf5a-20da3fb98552"
      },
      "outputs": [
        {
          "output_type": "stream",
          "name": "stdout",
          "text": [
            "Removed: /content/Food/food-101/images/.DS_Store\n"
          ]
        }
      ],
      "source": [
        "import os\n",
        "\n",
        "def remove_ds_store_files(base_folder):\n",
        "    # Walk through the directory\n",
        "    for dirpath, dirnames, filenames in os.walk(base_folder):\n",
        "        for filename in filenames:\n",
        "            # Check if the file is .DS_Store\n",
        "            if filename == '.DS_Store':\n",
        "                file_path = os.path.join(dirpath, filename)\n",
        "                try:\n",
        "                    os.remove(file_path)  # Remove the file\n",
        "                    print(f\"Removed: {file_path}\")\n",
        "                except Exception as e:\n",
        "                    print(f\"Error removing {file_path}: {e}\")\n",
        "\n",
        "\n",
        "# Call the function to remove .DS_Store files\n",
        "remove_ds_store_files(dataset_dir)\n"
      ]
    },
    {
      "cell_type": "code",
      "execution_count": 7,
      "metadata": {
        "id": "PIjudx9LTAZS",
        "colab": {
          "base_uri": "https://localhost:8080/"
        },
        "outputId": "5e7b630b-f288-4b81-983b-048edee326e8"
      },
      "outputs": [
        {
          "output_type": "stream",
          "name": "stdout",
          "text": [
            "Selected categories: ['apple_pie', 'baby_back_ribs', 'baklava', 'beef_carpaccio', 'beef_tartare', 'beet_salad', 'beignets', 'bibimbap', 'bread_pudding', 'breakfast_burrito', 'bruschetta', 'caesar_salad', 'cannoli', 'caprese_salad', 'carrot_cake', 'ceviche', 'cheese_plate', 'cheesecake', 'chicken_curry', 'chicken_quesadilla', 'chicken_wings', 'chocolate_cake', 'chocolate_mousse', 'churros', 'clam_chowder']\n"
          ]
        }
      ],
      "source": [
        "import os\n",
        "\n",
        "# Define the dataset directory\n",
        "dataset_dir = '/content/Food/food-101/images'\n",
        "\n",
        "# Get a sorted list of all folder names (categories)\n",
        "all_categories = sorted(os.listdir(dataset_dir))\n",
        "\n",
        "# Select the first 15 folders (categories)\n",
        "selected_categories = all_categories[:25]\n",
        "\n",
        "# Print the selected categories\n",
        "print(\"Selected categories:\", selected_categories)\n"
      ]
    },
    {
      "cell_type": "markdown",
      "metadata": {
        "id": "8KEX_O72lahX"
      },
      "source": [
        "Getting Random Images and Check Their Details"
      ]
    },
    {
      "cell_type": "code",
      "execution_count": 8,
      "metadata": {
        "colab": {
          "base_uri": "https://localhost:8080/"
        },
        "id": "fer9PfdjlWso",
        "outputId": "5cc5814a-275d-4fd7-ca25-b2edceacfbe4"
      },
      "outputs": [
        {
          "output_type": "stream",
          "name": "stdout",
          "text": [
            "           Category  Image Count\n",
            "0      tuna_tartare         1000\n",
            "1           lasagna         1000\n",
            "2      caesar_salad         1000\n",
            "3     chicken_curry         1000\n",
            "4        cheesecake         1000\n",
            "..              ...          ...\n",
            "96    chicken_wings         1000\n",
            "97            tacos         1000\n",
            "98         beignets         1000\n",
            "99      peking_duck         1000\n",
            "100  lobster_bisque         1000\n",
            "\n",
            "[101 rows x 2 columns]\n"
          ]
        }
      ],
      "source": [
        "import os\n",
        "import glob\n",
        "import random\n",
        "from PIL import Image\n",
        "\n",
        "\n",
        "# Initialize the dictionary to store image details\n",
        "image_details = {}\n",
        "\n",
        "# Get the list of categories (subdirectory names)\n",
        "categories = os.listdir(dataset_dir)\n",
        "\n",
        "# Loop through each category to gather image details\n",
        "for category in categories:\n",
        "    category_path = os.path.join(dataset_dir, category)\n",
        "\n",
        "    # Check if the path is a directory\n",
        "    if os.path.isdir(category_path):\n",
        "        # Get all images in the category\n",
        "        images = glob.glob(os.path.join(category_path, '*.jpg'))\n",
        "\n",
        "        # Randomly select a few images (e.g., 5)\n",
        "        random_images = random.sample(images, min(5, len(images)))  # Avoids sampling more than available\n",
        "\n",
        "        # Store image details and count\n",
        "        image_details[category] = {\n",
        "            'image_count': len(images),\n",
        "            'sample_images': random_images,\n",
        "            'image_shapes': []\n",
        "        }\n",
        "\n",
        "        # Check shape and details of images\n",
        "        for img_path in random_images:\n",
        "            try:\n",
        "                with Image.open(img_path) as img:\n",
        "                    img_shape = img.size  # (width, height)\n",
        "                    image_details[category]['image_shapes'].append(img_shape)\n",
        "            except Exception as e:\n",
        "                print(f\"Error loading image {img_path}: {e}\")\n",
        "\n",
        "# Convert details to DataFrame for better visualization\n",
        "import pandas as pd\n",
        "\n",
        "details_df = pd.DataFrame({\n",
        "    'Category': [cat for cat in image_details.keys()],\n",
        "    'Image Count': [info['image_count'] for info in image_details.values()],\n",
        "    'Sample Images': [info['sample_images'] for info in image_details.values()],\n",
        "    'Image Shapes': [info['image_shapes'] for info in image_details.values()],\n",
        "})\n",
        "\n",
        "# Display the DataFrame\n",
        "print(details_df[['Category', 'Image Count']])  # Print only the Category and Image Count\n"
      ]
    },
    {
      "cell_type": "code",
      "execution_count": 9,
      "metadata": {
        "colab": {
          "base_uri": "https://localhost:8080/"
        },
        "id": "Abupxtkdp_Ta",
        "outputId": "0cc148d8-dab5-4963-e1a7-a21db3d18809"
      },
      "outputs": [
        {
          "output_type": "stream",
          "name": "stdout",
          "text": [
            "           Category  Image Count  \\\n",
            "0      tuna_tartare         1000   \n",
            "1           lasagna         1000   \n",
            "2      caesar_salad         1000   \n",
            "3     chicken_curry         1000   \n",
            "4        cheesecake         1000   \n",
            "..              ...          ...   \n",
            "96    chicken_wings         1000   \n",
            "97            tacos         1000   \n",
            "98         beignets         1000   \n",
            "99      peking_duck         1000   \n",
            "100  lobster_bisque         1000   \n",
            "\n",
            "                                         Sample Images  \\\n",
            "0    [/content/Food/food-101/images/tuna_tartare/11...   \n",
            "1    [/content/Food/food-101/images/lasagna/207456....   \n",
            "2    [/content/Food/food-101/images/caesar_salad/20...   \n",
            "3    [/content/Food/food-101/images/chicken_curry/1...   \n",
            "4    [/content/Food/food-101/images/cheesecake/4250...   \n",
            "..                                                 ...   \n",
            "96   [/content/Food/food-101/images/chicken_wings/2...   \n",
            "97   [/content/Food/food-101/images/tacos/3479034.j...   \n",
            "98   [/content/Food/food-101/images/beignets/342313...   \n",
            "99   [/content/Food/food-101/images/peking_duck/235...   \n",
            "100  [/content/Food/food-101/images/lobster_bisque/...   \n",
            "\n",
            "                                          Image Shapes  \n",
            "0    [(512, 382), (512, 512), (512, 512), (512, 512...  \n",
            "1    [(512, 384), (512, 512), (512, 512), (512, 384...  \n",
            "2    [(512, 512), (384, 512), (512, 512), (512, 512...  \n",
            "3    [(512, 512), (512, 512), (512, 512), (512, 306...  \n",
            "4    [(512, 384), (512, 512), (512, 512), (512, 343...  \n",
            "..                                                 ...  \n",
            "96   [(512, 512), (512, 306), (512, 512), (512, 512...  \n",
            "97   [(512, 512), (341, 512), (512, 512), (512, 384...  \n",
            "98   [(512, 512), (306, 512), (512, 382), (512, 512...  \n",
            "99   [(512, 512), (512, 512), (512, 512), (512, 383...  \n",
            "100  [(512, 512), (512, 384), (287, 512), (384, 512...  \n",
            "\n",
            "[101 rows x 4 columns]\n"
          ]
        }
      ],
      "source": [
        "# Convert details to DataFrame for better visualization\n",
        "details_df = pd.DataFrame({\n",
        "    'Category': [cat for cat in image_details.keys()],\n",
        "    'Image Count': [info['image_count'] for info in image_details.values()],\n",
        "    'Sample Images': [info['sample_images'] for info in image_details.values()],\n",
        "    'Image Shapes': [info['image_shapes'] for info in image_details.values()],\n",
        "})\n",
        "\n",
        "print(details_df)"
      ]
    },
    {
      "cell_type": "code",
      "source": [],
      "metadata": {
        "id": "rM-If8K62Ohn"
      },
      "execution_count": 9,
      "outputs": []
    },
    {
      "cell_type": "code",
      "execution_count": 10,
      "metadata": {
        "id": "4gcme6niuyIi"
      },
      "outputs": [],
      "source": [
        "def create_image_dataframe(dataset_dir, selected_categories):\n",
        "    data = []\n",
        "\n",
        "    # Iterate through each selected folder (category) in the base folder\n",
        "    for category in selected_categories:\n",
        "        category_path = os.path.join(dataset_dir, category)\n",
        "\n",
        "        # Check if it's a directory\n",
        "        if os.path.isdir(category_path):\n",
        "            # Load images from the category folder\n",
        "            for filename in os.listdir(category_path):\n",
        "                img_path = os.path.join(category_path, filename)\n",
        "\n",
        "                # Optional: Filter for specific image extensions\n",
        "                if img_path.lower().endswith(('.png', '.jpg', '.jpeg')):\n",
        "                    data.append({'file_path': img_path, 'label': category})  # Use folder name as label\n",
        "\n",
        "    # Create DataFrame\n",
        "    df = pd.DataFrame(data)\n",
        "    return df\n"
      ]
    },
    {
      "cell_type": "code",
      "source": [
        "# Create DataFrame with selected categories\n",
        "df = create_image_dataframe(dataset_dir, selected_categories)\n",
        "\n",
        "# Display the first 10 entries of the DataFrame\n",
        "print(df.head(10))\n"
      ],
      "metadata": {
        "colab": {
          "base_uri": "https://localhost:8080/"
        },
        "id": "jm5bAoaa4LHg",
        "outputId": "3d8c7b92-7103-48ed-a938-8a1878364968"
      },
      "execution_count": 11,
      "outputs": [
        {
          "output_type": "stream",
          "name": "stdout",
          "text": [
            "                                           file_path      label\n",
            "0  /content/Food/food-101/images/apple_pie/116697...  apple_pie\n",
            "1  /content/Food/food-101/images/apple_pie/237332...  apple_pie\n",
            "2  /content/Food/food-101/images/apple_pie/238868...  apple_pie\n",
            "3  /content/Food/food-101/images/apple_pie/188957...  apple_pie\n",
            "4  /content/Food/food-101/images/apple_pie/232822...  apple_pie\n",
            "5  /content/Food/food-101/images/apple_pie/288187...  apple_pie\n",
            "6  /content/Food/food-101/images/apple_pie/874809...  apple_pie\n",
            "7  /content/Food/food-101/images/apple_pie/325242...  apple_pie\n",
            "8  /content/Food/food-101/images/apple_pie/171775...  apple_pie\n",
            "9  /content/Food/food-101/images/apple_pie/328062...  apple_pie\n"
          ]
        }
      ]
    },
    {
      "cell_type": "code",
      "execution_count": 12,
      "metadata": {
        "id": "3dQM_7VJGyEI"
      },
      "outputs": [],
      "source": [
        "# # Convert string labels to numeric values\n",
        "# df['label'] = df['label'].astype('category')  # Encode labels\n",
        "\n",
        "# Define the paths and labels from the DataFrame\n",
        "X = df['file_path'].values  # Image file paths\n",
        "y = df['label'].values      # Numeric labels\n"
      ]
    },
    {
      "cell_type": "code",
      "source": [
        "y"
      ],
      "metadata": {
        "colab": {
          "base_uri": "https://localhost:8080/"
        },
        "id": "md_PA1ACgC5F",
        "outputId": "ceec189c-db12-4765-86df-1da774b493f3"
      },
      "execution_count": 13,
      "outputs": [
        {
          "output_type": "execute_result",
          "data": {
            "text/plain": [
              "array(['apple_pie', 'apple_pie', 'apple_pie', ..., 'clam_chowder',\n",
              "       'clam_chowder', 'clam_chowder'], dtype=object)"
            ]
          },
          "metadata": {},
          "execution_count": 13
        }
      ]
    },
    {
      "cell_type": "code",
      "source": [
        "from sklearn.model_selection import train_test_split\n",
        "\n",
        "# Split data into 80% training and 20% validation\n",
        "X_train, X_val, y_train, y_val = train_test_split(X, y, test_size=0.2, random_state=42, stratify=y)\n",
        "\n",
        "# Display the split results\n",
        "print(\"Number of training samples:\", len(X_train))\n",
        "print(\"Number of validation samples:\", len(X_val))"
      ],
      "metadata": {
        "colab": {
          "base_uri": "https://localhost:8080/"
        },
        "id": "vkrM5Y2XeDCc",
        "outputId": "0921d707-d388-4041-8f6a-3ccc26f31b9e"
      },
      "execution_count": 14,
      "outputs": [
        {
          "output_type": "stream",
          "name": "stdout",
          "text": [
            "Number of training samples: 20000\n",
            "Number of validation samples: 5000\n"
          ]
        }
      ]
    },
    {
      "cell_type": "code",
      "source": [
        "import os\n",
        "import numpy as np\n",
        "from tensorflow.keras.preprocessing.image import ImageDataGenerator\n",
        "\n",
        "\n",
        "# Fixing train_indices and val_indices\n",
        "train_indices = df.index[df['file_path'].isin(X_train)].tolist()  # Get indices for training\n",
        "val_indices = df.index[df['file_path'].isin(X_val)].tolist()  # Get indices for validation\n"
      ],
      "metadata": {
        "id": "kEdo5_hneLee"
      },
      "execution_count": 15,
      "outputs": []
    },
    {
      "cell_type": "code",
      "source": [
        "train_indices.__len__()"
      ],
      "metadata": {
        "colab": {
          "base_uri": "https://localhost:8080/"
        },
        "id": "nJwYgRGHeoEJ",
        "outputId": "1a17bac8-916a-403e-d323-5107d4ff6757"
      },
      "execution_count": 16,
      "outputs": [
        {
          "output_type": "execute_result",
          "data": {
            "text/plain": [
              "20000"
            ]
          },
          "metadata": {},
          "execution_count": 16
        }
      ]
    },
    {
      "cell_type": "code",
      "source": [
        "import os\n",
        "import glob\n",
        "import random\n",
        "from PIL import Image\n",
        "import pandas as pd\n",
        "from tensorflow.keras.preprocessing.image import ImageDataGenerator\n",
        "\n",
        "# Define image size and batch size\n",
        "IMG_SIZE = 96  # Image size for EfficientNet\n",
        "BATCH_SIZE = 32  # Use the defined batch size\n",
        "\n",
        "# Create ImageDataGenerators for training and validation\n",
        "train_datagen = ImageDataGenerator(\n",
        "    rescale=1.0 / 255,  # Normalize pixel values to [0, 1]\n",
        "    rotation_range=40,  # Randomly rotate images in the range (degrees, 0 to 40)\n",
        "    width_shift_range=0.2,  # Randomly translate images horizontally (20% of width)\n",
        "    height_shift_range=0.2,  # Randomly translate images vertically (20% of height)\n",
        "\n",
        ")\n",
        "\n",
        "val_datagen = ImageDataGenerator(rescale=1.0 / 255)  # Normalize only for validation\n",
        "\n",
        "# Assuming df is your DataFrame and train_indices/val_indices are defined\n",
        "# Create generators again after defining train_indices and val_indices\n",
        "train_generator = train_datagen.flow_from_dataframe(\n",
        "    dataframe=df.iloc[train_indices],  # Use indices from the train split\n",
        "    x_col='file_path',\n",
        "    y_col='label',\n",
        "    target_size=(IMG_SIZE, IMG_SIZE),  # Resize images\n",
        "    batch_size=16,  # Use the defined batch size\n",
        "    class_mode='categorical',  # Use categorical for multi-class classification\n",
        "    shuffle=True  # Shuffle data for training\n",
        ")\n",
        "\n",
        "val_generator = val_datagen.flow_from_dataframe(\n",
        "    dataframe=df.iloc[val_indices],  # Use indices from the validation split\n",
        "    x_col='file_path',\n",
        "    y_col='label',\n",
        "    target_size=(IMG_SIZE, IMG_SIZE),  # Resize images\n",
        "    batch_size=32,  # Use the defined batch size\n",
        "    class_mode='categorical',  # Use categorical for multi-class classification\n",
        "    shuffle=False  # Don't shuffle validation data\n",
        ")\n",
        "\n",
        "# Optional: Print the number of samples to confirm\n",
        "print(f\"Number of training samples: {train_generator.samples}\")\n",
        "print(f\"Number of validation samples: {val_generator.samples}\")\n"
      ],
      "metadata": {
        "colab": {
          "base_uri": "https://localhost:8080/"
        },
        "id": "AbxCtMCFZ3I2",
        "outputId": "e854777b-2e31-49a0-98dc-0d538211121d"
      },
      "execution_count": 17,
      "outputs": [
        {
          "output_type": "stream",
          "name": "stdout",
          "text": [
            "Found 20000 validated image filenames belonging to 25 classes.\n",
            "Found 5000 validated image filenames belonging to 25 classes.\n",
            "Number of training samples: 20000\n",
            "Number of validation samples: 5000\n"
          ]
        }
      ]
    },
    {
      "cell_type": "code",
      "source": [
        "\n",
        "val_generator"
      ],
      "metadata": {
        "id": "ncYKqEmJqgLp"
      },
      "execution_count": null,
      "outputs": []
    },
    {
      "cell_type": "code",
      "source": [
        "import pandas as pd\n",
        "from sklearn.model_selection import train_test_split\n",
        "from sklearn.preprocessing import LabelEncoder\n",
        "from tensorflow.keras.preprocessing.image import ImageDataGenerator\n",
        "from tensorflow.keras.applications import MobileNetV2\n",
        "from tensorflow.keras.layers import Dense, GlobalAveragePooling2D\n",
        "from tensorflow.keras.models import Model\n"
      ],
      "metadata": {
        "id": "VhLKS8gJh2kG"
      },
      "execution_count": 20,
      "outputs": []
    },
    {
      "cell_type": "code",
      "source": [
        "from tensorflow.keras.applications import MobileNetV2\n",
        "from tensorflow.keras.models import Sequential\n",
        "from tensorflow.keras.layers import Dense, GlobalAveragePooling2D, Dropout\n",
        "from tensorflow.keras.optimizers import Adam\n",
        "from tensorflow.keras.callbacks import EarlyStopping, ModelCheckpoint\n",
        "\n",
        "\n",
        "IMG_SIZE = (96, 96, 3)\n",
        "\n",
        "base_model = MobileNetV2(include_top=False, weights='imagenet', input_shape=IMG_SIZE)\n",
        "\n",
        "# Freeze the base model to prevent updating its weights during the initial training\n",
        "base_model.trainable = False\n",
        "\n",
        "# Create the model\n",
        "model = Sequential([\n",
        "    base_model,\n",
        "    GlobalAveragePooling2D(),  # Pool the feature maps to a single vector\n",
        "    Dropout(0.4),  # Regularization to prevent overfitting\n",
        "    Dense(64, activation='relu'),  # Dense layer for learning\n",
        "    Dropout(0.3),  # Additional dropout for regularization\n",
        "    Dense(25, activation='softmax')  # Final output layer for 50 classes\n",
        "])\n",
        "\n",
        "# Compile the model\n",
        "model.compile(\n",
        "    optimizer=Adam(learning_rate=0.001),  # Optimizer with a custom learning rate\n",
        "    loss='categorical_crossentropy',  # Loss for multi-class classification\n",
        "    metrics=['accuracy']  # Track accuracy\n",
        ")\n",
        "\n",
        "\n"
      ],
      "metadata": {
        "colab": {
          "base_uri": "https://localhost:8080/"
        },
        "id": "7QnE6Nsgdjq3",
        "outputId": "86c09c42-9895-4f88-f76c-5b2e19de091d"
      },
      "execution_count": 21,
      "outputs": [
        {
          "output_type": "stream",
          "name": "stdout",
          "text": [
            "Downloading data from https://storage.googleapis.com/tensorflow/keras-applications/mobilenet_v2/mobilenet_v2_weights_tf_dim_ordering_tf_kernels_1.0_96_no_top.h5\n",
            "\u001b[1m9406464/9406464\u001b[0m \u001b[32m━━━━━━━━━━━━━━━━━━━━\u001b[0m\u001b[37m\u001b[0m \u001b[1m0s\u001b[0m 0us/step\n"
          ]
        }
      ]
    },
    {
      "cell_type": "code",
      "source": [
        "print(df['label'].isnull().sum())  # Check for NaNs\n",
        "print(df['label'].isna().sum())\n"
      ],
      "metadata": {
        "colab": {
          "base_uri": "https://localhost:8080/"
        },
        "id": "QXPAgJ6yBeCJ",
        "outputId": "d28c13ef-382d-460b-af53-13f9ad4c2005"
      },
      "execution_count": 22,
      "outputs": [
        {
          "output_type": "stream",
          "name": "stdout",
          "text": [
            "0\n",
            "0\n"
          ]
        }
      ]
    },
    {
      "cell_type": "code",
      "source": [
        "from tensorflow.keras.callbacks import EarlyStopping\n",
        "import matplotlib.pyplot as plt\n"
      ],
      "metadata": {
        "id": "gRwjhMrXiDD4"
      },
      "execution_count": 23,
      "outputs": []
    },
    {
      "cell_type": "code",
      "source": [
        "print(train_generator.image_shape)  # Should print a tuple of integers, e.g., (96, 96, 3)\n"
      ],
      "metadata": {
        "colab": {
          "base_uri": "https://localhost:8080/"
        },
        "id": "sF6bWT8FrL_t",
        "outputId": "9722adfc-9060-4060-bcfa-b07037454269"
      },
      "execution_count": 24,
      "outputs": [
        {
          "output_type": "stream",
          "name": "stdout",
          "text": [
            "(96, 96, 3)\n"
          ]
        }
      ]
    },
    {
      "cell_type": "code",
      "source": [
        "from tensorflow.keras.callbacks import EarlyStopping, ModelCheckpoint\n",
        "\n",
        "# Define your callbacks\n",
        "callbacks = [\n",
        "    EarlyStopping(monitor='val_loss', patience=4, restore_best_weights=True),\n",
        "    ModelCheckpoint('best_model.keras', monitor='val_loss', save_best_only=True)\n",
        "]\n",
        "\n",
        "# Fit the model using the training and validation generators\n",
        "\n",
        "\n",
        "# Fit the model\n",
        "history = model.fit(\n",
        "    train_generator,\n",
        "\n",
        "    validation_data=val_generator,\n",
        "\n",
        "    epochs=30,\n",
        "    callbacks=callbacks,\n",
        "    verbose=1\n",
        ")"
      ],
      "metadata": {
        "colab": {
          "base_uri": "https://localhost:8080/"
        },
        "id": "yCgI-O-WiDNg",
        "outputId": "321e5163-a14b-47df-9c08-803135b36501"
      },
      "execution_count": 25,
      "outputs": [
        {
          "output_type": "stream",
          "name": "stdout",
          "text": [
            "Epoch 1/30\n"
          ]
        },
        {
          "output_type": "stream",
          "name": "stderr",
          "text": [
            "/usr/local/lib/python3.10/dist-packages/keras/src/trainers/data_adapters/py_dataset_adapter.py:121: UserWarning: Your `PyDataset` class should call `super().__init__(**kwargs)` in its constructor. `**kwargs` can include `workers`, `use_multiprocessing`, `max_queue_size`. Do not pass these arguments to `fit()`, as they will be ignored.\n",
            "  self._warn_if_super_not_called()\n"
          ]
        },
        {
          "output_type": "stream",
          "name": "stdout",
          "text": [
            "\u001b[1m1250/1250\u001b[0m \u001b[32m━━━━━━━━━━━━━━━━━━━━\u001b[0m\u001b[37m\u001b[0m \u001b[1m305s\u001b[0m 236ms/step - accuracy: 0.1635 - loss: 2.9224 - val_accuracy: 0.4186 - val_loss: 1.9669\n",
            "Epoch 2/30\n",
            "\u001b[1m1250/1250\u001b[0m \u001b[32m━━━━━━━━━━━━━━━━━━━━\u001b[0m\u001b[37m\u001b[0m \u001b[1m310s\u001b[0m 227ms/step - accuracy: 0.3263 - loss: 2.2628 - val_accuracy: 0.4766 - val_loss: 1.8012\n",
            "Epoch 3/30\n",
            "\u001b[1m1250/1250\u001b[0m \u001b[32m━━━━━━━━━━━━━━━━━━━━\u001b[0m\u001b[37m\u001b[0m \u001b[1m285s\u001b[0m 227ms/step - accuracy: 0.3645 - loss: 2.1335 - val_accuracy: 0.4964 - val_loss: 1.7535\n",
            "Epoch 4/30\n",
            "\u001b[1m1250/1250\u001b[0m \u001b[32m━━━━━━━━━━━━━━━━━━━━\u001b[0m\u001b[37m\u001b[0m \u001b[1m284s\u001b[0m 227ms/step - accuracy: 0.3902 - loss: 2.0854 - val_accuracy: 0.5058 - val_loss: 1.6915\n",
            "Epoch 5/30\n",
            "\u001b[1m1250/1250\u001b[0m \u001b[32m━━━━━━━━━━━━━━━━━━━━\u001b[0m\u001b[37m\u001b[0m \u001b[1m326s\u001b[0m 260ms/step - accuracy: 0.4016 - loss: 2.0314 - val_accuracy: 0.5032 - val_loss: 1.6777\n",
            "Epoch 6/30\n",
            "\u001b[1m1250/1250\u001b[0m \u001b[32m━━━━━━━━━━━━━━━━━━━━\u001b[0m\u001b[37m\u001b[0m \u001b[1m285s\u001b[0m 227ms/step - accuracy: 0.3990 - loss: 2.0333 - val_accuracy: 0.5086 - val_loss: 1.6687\n",
            "Epoch 7/30\n",
            "\u001b[1m1250/1250\u001b[0m \u001b[32m━━━━━━━━━━━━━━━━━━━━\u001b[0m\u001b[37m\u001b[0m \u001b[1m289s\u001b[0m 231ms/step - accuracy: 0.4079 - loss: 1.9945 - val_accuracy: 0.5132 - val_loss: 1.6653\n",
            "Epoch 8/30\n",
            "\u001b[1m1250/1250\u001b[0m \u001b[32m━━━━━━━━━━━━━━━━━━━━\u001b[0m\u001b[37m\u001b[0m \u001b[1m353s\u001b[0m 256ms/step - accuracy: 0.4124 - loss: 1.9814 - val_accuracy: 0.5138 - val_loss: 1.6460\n",
            "Epoch 9/30\n",
            "\u001b[1m1250/1250\u001b[0m \u001b[32m━━━━━━━━━━━━━━━━━━━━\u001b[0m\u001b[37m\u001b[0m \u001b[1m281s\u001b[0m 224ms/step - accuracy: 0.4182 - loss: 1.9681 - val_accuracy: 0.5266 - val_loss: 1.6467\n",
            "Epoch 10/30\n",
            "\u001b[1m1250/1250\u001b[0m \u001b[32m━━━━━━━━━━━━━━━━━━━━\u001b[0m\u001b[37m\u001b[0m \u001b[1m323s\u001b[0m 258ms/step - accuracy: 0.4129 - loss: 1.9722 - val_accuracy: 0.5136 - val_loss: 1.6295\n",
            "Epoch 11/30\n",
            "\u001b[1m1250/1250\u001b[0m \u001b[32m━━━━━━━━━━━━━━━━━━━━\u001b[0m\u001b[37m\u001b[0m \u001b[1m346s\u001b[0m 230ms/step - accuracy: 0.4213 - loss: 1.9580 - val_accuracy: 0.5198 - val_loss: 1.6330\n",
            "Epoch 12/30\n",
            "\u001b[1m1250/1250\u001b[0m \u001b[32m━━━━━━━━━━━━━━━━━━━━\u001b[0m\u001b[37m\u001b[0m \u001b[1m283s\u001b[0m 226ms/step - accuracy: 0.4190 - loss: 1.9660 - val_accuracy: 0.5218 - val_loss: 1.6214\n",
            "Epoch 13/30\n",
            "\u001b[1m1250/1250\u001b[0m \u001b[32m━━━━━━━━━━━━━━━━━━━━\u001b[0m\u001b[37m\u001b[0m \u001b[1m360s\u001b[0m 256ms/step - accuracy: 0.4329 - loss: 1.9319 - val_accuracy: 0.5264 - val_loss: 1.6028\n",
            "Epoch 14/30\n",
            "\u001b[1m1250/1250\u001b[0m \u001b[32m━━━━━━━━━━━━━━━━━━━━\u001b[0m\u001b[37m\u001b[0m \u001b[1m286s\u001b[0m 228ms/step - accuracy: 0.4200 - loss: 1.9361 - val_accuracy: 0.5224 - val_loss: 1.6313\n",
            "Epoch 15/30\n",
            "\u001b[1m1250/1250\u001b[0m \u001b[32m━━━━━━━━━━━━━━━━━━━━\u001b[0m\u001b[37m\u001b[0m \u001b[1m360s\u001b[0m 258ms/step - accuracy: 0.4274 - loss: 1.9389 - val_accuracy: 0.5170 - val_loss: 1.6459\n",
            "Epoch 16/30\n",
            "\u001b[1m1250/1250\u001b[0m \u001b[32m━━━━━━━━━━━━━━━━━━━━\u001b[0m\u001b[37m\u001b[0m \u001b[1m287s\u001b[0m 229ms/step - accuracy: 0.4262 - loss: 1.9289 - val_accuracy: 0.5300 - val_loss: 1.6136\n",
            "Epoch 17/30\n",
            "\u001b[1m1250/1250\u001b[0m \u001b[32m━━━━━━━━━━━━━━━━━━━━\u001b[0m\u001b[37m\u001b[0m \u001b[1m319s\u001b[0m 227ms/step - accuracy: 0.4264 - loss: 1.9419 - val_accuracy: 0.5180 - val_loss: 1.6226\n"
          ]
        }
      ]
    },
    {
      "cell_type": "markdown",
      "source": [
        "**Evaluate**"
      ],
      "metadata": {
        "id": "PToevvn0XnTm"
      }
    },
    {
      "cell_type": "code",
      "source": [
        "# Evaluate the model on the validation set\n",
        "val_loss, val_accuracy = model.evaluate(val_generator, steps=157)\n",
        "\n",
        "# Print the results\n",
        "print(f\"Validation Loss: {val_loss:.4f}\")\n",
        "print(f\"Validation Accuracy: {val_accuracy:.4f}\")\n"
      ],
      "metadata": {
        "colab": {
          "base_uri": "https://localhost:8080/"
        },
        "id": "6VhPbPhwApXY",
        "outputId": "4c626812-c0df-4a01-94cf-44a29bfad097"
      },
      "execution_count": 30,
      "outputs": [
        {
          "output_type": "stream",
          "name": "stdout",
          "text": [
            "\u001b[1m157/157\u001b[0m \u001b[32m━━━━━━━━━━━━━━━━━━━━\u001b[0m\u001b[37m\u001b[0m \u001b[1m47s\u001b[0m 299ms/step - accuracy: 0.4930 - loss: 1.6917\n",
            "Validation Loss: 1.6028\n",
            "Validation Accuracy: 0.5264\n"
          ]
        }
      ]
    },
    {
      "cell_type": "code",
      "source": [
        "# Get predictions\n",
        "predictions = model.predict(val_generator, steps=157)\n",
        "\n",
        "# Convert predictions to class labels\n",
        "predicted_classes = np.argmax(predictions, axis=1)\n",
        "\n",
        "# Get true labels from the validation generator\n",
        "true_classes = val_generator.classes\n",
        "\n",
        "# Now you can calculate other metrics, such as classification report or confusion matrix\n",
        "from sklearn.metrics import classification_report, confusion_matrix\n",
        "\n",
        "print(\"Classification Report:\")\n",
        "print(classification_report(true_classes, predicted_classes))\n",
        "\n",
        "print(\"Confusion Matrix:\")\n",
        "print(confusion_matrix(true_classes, predicted_classes))\n"
      ],
      "metadata": {
        "colab": {
          "base_uri": "https://localhost:8080/"
        },
        "id": "xHFBUZyCKnqz",
        "outputId": "43ae4ef0-cd05-4c78-9ba2-3a46e057967b"
      },
      "execution_count": 31,
      "outputs": [
        {
          "output_type": "stream",
          "name": "stdout",
          "text": [
            "\u001b[1m157/157\u001b[0m \u001b[32m━━━━━━━━━━━━━━━━━━━━\u001b[0m\u001b[37m\u001b[0m \u001b[1m50s\u001b[0m 302ms/step\n",
            "Classification Report:\n",
            "              precision    recall  f1-score   support\n",
            "\n",
            "           0       0.37      0.23      0.28       200\n",
            "           1       0.56      0.59      0.57       200\n",
            "           2       0.47      0.51      0.49       200\n",
            "           3       0.54      0.64      0.58       200\n",
            "           4       0.48      0.50      0.49       200\n",
            "           5       0.42      0.54      0.47       200\n",
            "           6       0.71      0.71      0.71       200\n",
            "           7       0.79      0.73      0.76       200\n",
            "           8       0.40      0.38      0.39       200\n",
            "           9       0.47      0.41      0.44       200\n",
            "          10       0.55      0.38      0.45       200\n",
            "          11       0.50      0.80      0.62       200\n",
            "          12       0.61      0.48      0.54       200\n",
            "          13       0.57      0.45      0.50       200\n",
            "          14       0.64      0.41      0.50       200\n",
            "          15       0.37      0.39      0.38       200\n",
            "          16       0.48      0.52      0.50       200\n",
            "          17       0.51      0.30      0.38       200\n",
            "          18       0.59      0.55      0.57       200\n",
            "          19       0.61      0.34      0.44       200\n",
            "          20       0.61      0.68      0.64       200\n",
            "          21       0.43      0.67      0.52       200\n",
            "          22       0.34      0.49      0.40       200\n",
            "          23       0.60      0.68      0.64       200\n",
            "          24       0.79      0.77      0.78       200\n",
            "\n",
            "    accuracy                           0.53      5000\n",
            "   macro avg       0.54      0.53      0.52      5000\n",
            "weighted avg       0.54      0.53      0.52      5000\n",
            "\n",
            "Confusion Matrix:\n",
            "[[ 46   2  32   0   3   0   9   0  28   8   1   2   5   0   7   5   9   1\n",
            "    3   3   6   5  18   5   2]\n",
            " [  1 119   2   0   4   3   0   3   2   1   4   1   2   1   3   0   3   3\n",
            "    1   5  18  18   3   3   0]\n",
            " [  9   2 102   0   3   0   9   0   5  10   1   8   8   0   2   2   7   1\n",
            "    1   2   2   5  12   8   1]\n",
            " [  1   1   1 127   9  20   0   0   0   2   2  14   1   6   0   6   2   1\n",
            "    1   0   2   2   2   0   0]\n",
            " [  1   4   3  10 100  13   2   3   4   0  13   6   1   4   0  13   3   2\n",
            "    0   0   5   5   6   2   0]\n",
            " [  0   2   1  14  12 107   0   3   1   0   2  17   1   7   0  10   5   3\n",
            "    2   0   2   2   9   0   0]\n",
            " [  6   0   2   0   3   0 143   1   4   0   0   0   6   0   0   0   6   1\n",
            "    2   1   3   5   5  11   1]\n",
            " [  1   9   1   2   4   3   0 147   3   2   0   9   1   1   0   2   0   1\n",
            "    6   1   2   1   2   1   1]\n",
            " [ 16  11   9   0   1   3   1   3  76   5   2   2   5   1   2   6   1   3\n",
            "    9   1  12   7  16   4   4]\n",
            " [  6   7   4   2   4   3   4   1   7  83   6  11   2   0   0  16   6   0\n",
            "   10  10   7   3   5   1   2]\n",
            " [  2   7   3  16   7  18   0   1   3   3  76   7   3  18   0  19   2   4\n",
            "    0   3   3   1   2   2   0]\n",
            " [  0   2   3   0   2   8   0   3   1   2   1 159   1   1   0   9   2   0\n",
            "    2   0   2   0   0   1   1]\n",
            " [  2   0   8   1   4   3  15   0   9   8   0   6  97   4   2   2  12   2\n",
            "    0   0   1   7  11   5   1]\n",
            " [  0   2   0  28   6  28   1   2   0   3  10   5   1  90   0   6   0   5\n",
            "    3   1   1   1   5   2   0]\n",
            " [  5   7   8   4   6   1   1   1   7   5   0   1   4   3  81   0   6   3\n",
            "    1   2   2  25  18   5   4]\n",
            " [  1   0   1  14   8  15   0   3   6   5   4  30   0   3   0  78   7   0\n",
            "   10   2   1   1   2   5   4]\n",
            " [  1   2   2   1   8  15   2   1   0   1   0   4   5   4   0   7 104  11\n",
            "    1   4   4   6   7   9   1]\n",
            " [  0   6  13   2   0   4   3   0  12   0   3   0   3   7   4   4  10  60\n",
            "    1   0   0  32  27   6   3]\n",
            " [  8   5   4   5   2   0   3   8   7   6   1   8   0   0   1   7   3   0\n",
            "  109   3   7   0   4   1   8]\n",
            " [ 12   5   5   2   5   0   0   1   0  26   5  18   2   1   3  10   8   1\n",
            "    9  69   6   0   1   7   4]\n",
            " [  2  11   3   0   5   3   1   1   0   4   5   5   1   3   2   2   1   0\n",
            "    7   2 136   1   0   5   0]\n",
            " [  0   6   1   2   3   2   1   1   0   0   0   0   2   1   7   1   6   7\n",
            "    0   0   0 134  22   4   0]\n",
            " [  1   1   1   5   3   4   1   1   7   0   1   0   5   1   5   0   2   7\n",
            "    2   0   0  46  99   3   5]\n",
            " [  2   3   4   0   6   1   5   1   3   3   1   0   1   1   7   1   8   2\n",
            "    1   1   2   6   5 136   0]\n",
            " [  2   0   2   1   0   0   1   1   6   1   0   4   1   0   0   7   2   0\n",
            "    4   3   0   0  10   1 154]]\n"
          ]
        }
      ]
    },
    {
      "cell_type": "markdown",
      "source": [
        "**Model** **Tuning**"
      ],
      "metadata": {
        "id": "SBzFG74QXsKC"
      }
    },
    {
      "cell_type": "code",
      "source": [
        "# Unfreeze the last 20 layers of MobileNetV2\n",
        "for layer in base_model.layers[-20:]:\n",
        "    layer.trainable = True\n",
        "\n",
        "# Recompile the model after unfreezing layers\n",
        "model.compile(\n",
        "    optimizer=Adam(learning_rate=0.001),  # You might want to lower the learning rate\n",
        "    loss='categorical_crossentropy',\n",
        "    metrics=['accuracy']\n",
        ")\n",
        "\n",
        "# Define your callbacks\n",
        "callbacks = [\n",
        "    EarlyStopping(monitor='val_loss', patience=3, restore_best_weights=True),\n",
        "    ModelCheckpoint('best1_model.keras', monitor='val_loss', save_best_only=True)\n",
        "]\n",
        "\n",
        "# Fit the model using the training and validation generators\n",
        "\n",
        "\n",
        "# Fit the model\n",
        "history = model.fit(\n",
        "    train_generator,\n",
        "\n",
        "    validation_data=val_generator,\n",
        "\n",
        "    epochs=30,\n",
        "    callbacks=callbacks,\n",
        "    verbose=1)"
      ],
      "metadata": {
        "colab": {
          "base_uri": "https://localhost:8080/"
        },
        "id": "u_xroWsRLHnR",
        "outputId": "f5a152aa-14c7-45e9-c5a7-c6c39328c13b"
      },
      "execution_count": 32,
      "outputs": [
        {
          "output_type": "stream",
          "name": "stdout",
          "text": [
            "Epoch 1/30\n",
            "\u001b[1m1250/1250\u001b[0m \u001b[32m━━━━━━━━━━━━━━━━━━━━\u001b[0m\u001b[37m\u001b[0m \u001b[1m410s\u001b[0m 318ms/step - accuracy: 0.3169 - loss: 2.3830 - val_accuracy: 0.1978 - val_loss: 3.5953\n",
            "Epoch 2/30\n",
            "\u001b[1m1250/1250\u001b[0m \u001b[32m━━━━━━━━━━━━━━━━━━━━\u001b[0m\u001b[37m\u001b[0m \u001b[1m406s\u001b[0m 289ms/step - accuracy: 0.4330 - loss: 1.9818 - val_accuracy: 0.4478 - val_loss: 2.5927\n",
            "Epoch 3/30\n",
            "\u001b[1m1250/1250\u001b[0m \u001b[32m━━━━━━━━━━━━━━━━━━━━\u001b[0m\u001b[37m\u001b[0m \u001b[1m381s\u001b[0m 288ms/step - accuracy: 0.4661 - loss: 1.8372 - val_accuracy: 0.4276 - val_loss: 3.0130\n",
            "Epoch 4/30\n",
            "\u001b[1m1250/1250\u001b[0m \u001b[32m━━━━━━━━━━━━━━━━━━━━\u001b[0m\u001b[37m\u001b[0m \u001b[1m362s\u001b[0m 289ms/step - accuracy: 0.4921 - loss: 1.7635 - val_accuracy: 0.5512 - val_loss: 1.9739\n",
            "Epoch 5/30\n",
            "\u001b[1m1250/1250\u001b[0m \u001b[32m━━━━━━━━━━━━━━━━━━━━\u001b[0m\u001b[37m\u001b[0m \u001b[1m361s\u001b[0m 288ms/step - accuracy: 0.5189 - loss: 1.6846 - val_accuracy: 0.5334 - val_loss: 1.9011\n",
            "Epoch 6/30\n",
            "\u001b[1m1250/1250\u001b[0m \u001b[32m━━━━━━━━━━━━━━━━━━━━\u001b[0m\u001b[37m\u001b[0m \u001b[1m378s\u001b[0m 285ms/step - accuracy: 0.5411 - loss: 1.6019 - val_accuracy: 0.5194 - val_loss: 2.2540\n",
            "Epoch 7/30\n",
            "\u001b[1m1250/1250\u001b[0m \u001b[32m━━━━━━━━━━━━━━━━━━━━\u001b[0m\u001b[37m\u001b[0m \u001b[1m388s\u001b[0m 290ms/step - accuracy: 0.5407 - loss: 1.5941 - val_accuracy: 0.5910 - val_loss: 1.7494\n",
            "Epoch 8/30\n",
            "\u001b[1m1250/1250\u001b[0m \u001b[32m━━━━━━━━━━━━━━━━━━━━\u001b[0m\u001b[37m\u001b[0m \u001b[1m359s\u001b[0m 287ms/step - accuracy: 0.5641 - loss: 1.5259 - val_accuracy: 0.5714 - val_loss: 1.7417\n",
            "Epoch 9/30\n",
            "\u001b[1m1250/1250\u001b[0m \u001b[32m━━━━━━━━━━━━━━━━━━━━\u001b[0m\u001b[37m\u001b[0m \u001b[1m396s\u001b[0m 316ms/step - accuracy: 0.5739 - loss: 1.4819 - val_accuracy: 0.5888 - val_loss: 1.6763\n",
            "Epoch 10/30\n",
            "\u001b[1m1250/1250\u001b[0m \u001b[32m━━━━━━━━━━━━━━━━━━━━\u001b[0m\u001b[37m\u001b[0m \u001b[1m404s\u001b[0m 286ms/step - accuracy: 0.5951 - loss: 1.4271 - val_accuracy: 0.6030 - val_loss: 1.6087\n",
            "Epoch 11/30\n",
            "\u001b[1m1250/1250\u001b[0m \u001b[32m━━━━━━━━━━━━━━━━━━━━\u001b[0m\u001b[37m\u001b[0m \u001b[1m399s\u001b[0m 319ms/step - accuracy: 0.6017 - loss: 1.3856 - val_accuracy: 0.5724 - val_loss: 1.7598\n",
            "Epoch 12/30\n",
            "\u001b[1m1250/1250\u001b[0m \u001b[32m━━━━━━━━━━━━━━━━━━━━\u001b[0m\u001b[37m\u001b[0m \u001b[1m360s\u001b[0m 287ms/step - accuracy: 0.6163 - loss: 1.3289 - val_accuracy: 0.6068 - val_loss: 1.6586\n",
            "Epoch 13/30\n",
            "\u001b[1m1250/1250\u001b[0m \u001b[32m━━━━━━━━━━━━━━━━━━━━\u001b[0m\u001b[37m\u001b[0m \u001b[1m360s\u001b[0m 288ms/step - accuracy: 0.6199 - loss: 1.3022 - val_accuracy: 0.5994 - val_loss: 1.6445\n"
          ]
        }
      ]
    },
    {
      "cell_type": "code",
      "source": [
        "# Evaluate the model on the validation set\n",
        "val_loss, val_accuracy = model.evaluate(val_generator, steps=157)\n",
        "\n",
        "# Print the results\n",
        "print(f\"Validation Loss: {val_loss:.4f}\")\n",
        "print(f\"Validation Accuracy: {val_accuracy:.4f}\")\n"
      ],
      "metadata": {
        "colab": {
          "base_uri": "https://localhost:8080/"
        },
        "id": "DTeLbw0LflDg",
        "outputId": "51e674a7-60fb-4f5f-dba0-07055fe93844"
      },
      "execution_count": 34,
      "outputs": [
        {
          "output_type": "stream",
          "name": "stdout",
          "text": [
            "\u001b[1m157/157\u001b[0m \u001b[32m━━━━━━━━━━━━━━━━━━━━\u001b[0m\u001b[37m\u001b[0m \u001b[1m48s\u001b[0m 304ms/step - accuracy: 0.5788 - loss: 1.6544\n",
            "Validation Loss: 1.6087\n",
            "Validation Accuracy: 0.6030\n"
          ]
        }
      ]
    },
    {
      "cell_type": "code",
      "source": [
        "# Get predictions\n",
        "predictions = model.predict(val_generator, steps=157)\n",
        "\n",
        "# Convert predictions to class labels\n",
        "predicted_classes = np.argmax(predictions, axis=1)\n",
        "\n",
        "# Get true labels from the validation generator\n",
        "true_classes = val_generator.classes\n",
        "\n",
        "# Now you can calculate other metrics, such as classification report or confusion matrix\n",
        "from sklearn.metrics import classification_report, confusion_matrix\n",
        "\n",
        "print(\"Classification Report:\")\n",
        "print(classification_report(true_classes, predicted_classes))\n",
        "\n",
        "print(\"Confusion Matrix:\")\n",
        "print(confusion_matrix(true_classes, predicted_classes))\n"
      ],
      "metadata": {
        "colab": {
          "base_uri": "https://localhost:8080/"
        },
        "id": "9viwVArcfcy0",
        "outputId": "54b64be7-b916-4e99-a498-c02d1fafb54c"
      },
      "execution_count": 35,
      "outputs": [
        {
          "output_type": "stream",
          "name": "stdout",
          "text": [
            "\u001b[1m157/157\u001b[0m \u001b[32m━━━━━━━━━━━━━━━━━━━━\u001b[0m\u001b[37m\u001b[0m \u001b[1m49s\u001b[0m 302ms/step\n",
            "Classification Report:\n",
            "              precision    recall  f1-score   support\n",
            "\n",
            "           0       0.40      0.47      0.43       200\n",
            "           1       0.79      0.60      0.69       200\n",
            "           2       0.59      0.63      0.61       200\n",
            "           3       0.56      0.73      0.64       200\n",
            "           4       0.86      0.47      0.61       200\n",
            "           5       0.62      0.46      0.53       200\n",
            "           6       0.57      0.87      0.69       200\n",
            "           7       0.97      0.73      0.84       200\n",
            "           8       0.44      0.46      0.45       200\n",
            "           9       0.71      0.39      0.50       200\n",
            "          10       0.66      0.28      0.40       200\n",
            "          11       0.56      0.86      0.68       200\n",
            "          12       0.60      0.69      0.64       200\n",
            "          13       0.45      0.70      0.55       200\n",
            "          14       0.74      0.49      0.59       200\n",
            "          15       0.63      0.46      0.53       200\n",
            "          16       0.70      0.61      0.66       200\n",
            "          17       0.58      0.51      0.54       200\n",
            "          18       0.54      0.72      0.61       200\n",
            "          19       0.70      0.57      0.63       200\n",
            "          20       0.57      0.72      0.64       200\n",
            "          21       0.49      0.74      0.59       200\n",
            "          22       0.47      0.53      0.49       200\n",
            "          23       0.73      0.70      0.71       200\n",
            "          24       0.94      0.67      0.78       200\n",
            "\n",
            "    accuracy                           0.60      5000\n",
            "   macro avg       0.64      0.60      0.60      5000\n",
            "weighted avg       0.64      0.60      0.60      5000\n",
            "\n",
            "Confusion Matrix:\n",
            "[[ 93   0  24   0   1   0  13   0  26   2   0   0   6   0   5   3   0   3\n",
            "    1   2   8   4   5   4   0]\n",
            " [  2 121   0   0   0   1   2   0   1   0   0   0   4   1   5   1   2   2\n",
            "    8   2  31  11   1   5   0]\n",
            " [ 15   1 126   1   0   0   8   0   6   1   0   1  13   1   1   0   4   3\n",
            "    2   2   3   3   4   4   1]\n",
            " [  1   1   1 146   0   7   1   0   1   1   1   5   1  22   0   2   3   3\n",
            "    0   0   2   1   1   0   0]\n",
            " [  2   3   2  18  95   9   2   0   2   1   4   6   0  12   1   5   3   3\n",
            "    5   3   8   7   5   4   0]\n",
            " [  0   0   0  18   1  92   2   0   7   0   0  29   0  25   1   5   3   2\n",
            "    6   0   1   7   1   0   0]\n",
            " [  1   0   1   0   1   0 174   0   2   0   0   2  10   0   0   0   1   0\n",
            "    0   0   3   2   2   1   0]\n",
            " [  1   3   0   0   0   0   0 147   3   2   0  13   0   4   1   1   1   2\n",
            "   13   2   3   3   1   0   0]\n",
            " [ 31   2   4   0   0   1  15   1  92   0   0   2   5   1   1   3   2   8\n",
            "    5   0  14   8   4   1   0]\n",
            " [ 12   3   7   7   2   1   2   0   8  77   6   6   7   9   1   6   3   1\n",
            "   17  13   5   1   5   1   0]\n",
            " [  2   0   0  20   2   3   5   0   5   2  57   5   8  49   0  10   2   6\n",
            "    7   4   5   1   5   2   0]\n",
            " [  1   0   0   1   0   4   3   0   0   0   0 173   4   4   0   2   1   1\n",
            "    3   1   2   0   0   0   0]\n",
            " [  6   1   6   2   1   1  12   0   2   1   0   3 138   3   1   1   2   2\n",
            "    1   0   0   8   8   1   0]\n",
            " [  0   0   1  18   0   7   3   0   1   0   4   7   3 141   0   2   1   6\n",
            "    1   1   1   1   2   0   0]\n",
            " [ 16   2  13   2   0   0   3   0  11   0   0   1   2   3  98   0   2  12\n",
            "    1   1   3  21   7   2   0]\n",
            " [  1   0   0  14   1   9   2   2   6   3   3  31   1  13   0  91   1   1\n",
            "    7   1   3   0   6   2   2]\n",
            " [  3   2   4   3   3   6   5   0   1   1   0   2   6   2   1   1 123   7\n",
            "    3   6   1   1   8   9   2]\n",
            " [  8   0   7   0   0   1   5   0  13   0   1   0   2  10   6   0   4 102\n",
            "    5   2   1  17  12   3   1]\n",
            " [  5   4   3   3   1   0   6   1   4   1   2  10   0   2   1   2   0   0\n",
            "  144   2   6   0   1   1   1]\n",
            " [ 15   2   2   4   0   1   1   0   3  15   4   9   5   2   2   3   5   1\n",
            "    3 114   3   0   0   6   0]\n",
            " [  2   3   5   0   0   1   9   0   2   1   2   2   1   6   0   0   0   0\n",
            "   10   5 145   1   1   4   0]\n",
            " [  0   3   2   0   0   2   1   0   2   0   0   0   5   0   2   0   1   5\n",
            "    1   0   0 148  27   1   0]\n",
            " [  2   1   0   1   0   1   5   0   7   1   0   0   4   2   2   0   4   3\n",
            "    6   0   0  53 105   1   2]\n",
            " [  4   1   4   0   0   0  16   0   1   0   1   0   6   0   3   0   5   2\n",
            "    4   2   5   5   1 140   0]\n",
            " [  7   0   0   1   2   1   8   1   3   0   1   1   0   2   0   7   2   0\n",
            "   16   1   1   0  13   0 133]]\n"
          ]
        }
      ]
    },
    {
      "cell_type": "code",
      "source": [
        "import numpy as np\n",
        "from tensorflow.keras.models import load_model\n",
        "from tensorflow.keras.preprocessing import image\n",
        "import matplotlib.pyplot as plt\n",
        "import cv2\n",
        "\n",
        "# # Load the trained model\n",
        "# model = load_model('best_model.h5')\n",
        "\n",
        "# Mapping of class indices to average calorie content\n",
        "calorie_estimates = {\n",
        "    0: 300,  # apple_pie\n",
        "    1: 400,  # baby_back_ribs\n",
        "    2: 250,  # baklava\n",
        "    3: 150,  # beef_carpaccio\n",
        "    4: 180,  # beef_tartare\n",
        "    5: 120,  # beet_salad\n",
        "    6: 290,  # beignets\n",
        "    7: 500,  # bibimbap\n",
        "    8: 350,  # bread_pudding\n",
        "    9: 600,  # breakfast_burrito\n",
        "    10: 180, # bruschetta\n",
        "    11: 150, # caesar_salad\n",
        "    12: 330, # cannoli\n",
        "    13: 220, # caprese_salad\n",
        "    14: 420, # carrot_cake\n",
        "    15: 200, # ceviche\n",
        "    16: 250, # cheese_plate\n",
        "    17: 350, # cheesecake\n",
        "    18: 400, # chicken_curry\n",
        "    19: 450, # chicken_quesadilla\n",
        "    20: 320, # chicken_wings\n",
        "    21: 400, # chocolate_cake\n",
        "    22: 350, # chocolate_mousse\n",
        "    23: 250, # churros\n",
        "    24: 200  # clam_chowder\n",
        "}\n",
        "\n",
        "# Preprocess the input image\n",
        "def preprocess_image(img_path):\n",
        "    img = image.load_img(img_path, target_size=(96, 96))\n",
        "    img_array = image.img_to_array(img)\n",
        "    img_array = np.expand_dims(img_array, axis=0)\n",
        "    img_array /= 255.0  # Normalize to [0, 1]\n",
        "    return img_array\n",
        "\n",
        "# Class labels\n",
        "class_labels = [\n",
        "    'apple_pie', 'baby_back_ribs', 'baklava', 'beef_carpaccio', 'beef_tartare',\n",
        "    'beet_salad', 'beignets', 'bibimbap', 'bread_pudding', 'breakfast_burrito',\n",
        "    'bruschetta', 'caesar_salad', 'cannoli', 'caprese_salad', 'carrot_cake',\n",
        "    'ceviche', 'cheese_plate', 'cheesecake', 'chicken_curry', 'chicken_quesadilla',\n",
        "    'chicken_wings', 'chocolate_cake', 'chocolate_mousse', 'churros', 'clam_chowder'\n",
        "]\n",
        "\n",
        "# Test with an image\n",
        "img_path = '/content/1.jpg'  # Replace with your image path\n",
        "preprocessed_img = preprocess_image(img_path)\n",
        "predictions = model.predict(preprocessed_img)\n",
        "\n",
        "# Get the predicted class index and label\n",
        "predicted_class_index = np.argmax(predictions[0])  # Assuming single output softmax\n",
        "predicted_class_label = class_labels[predicted_class_index]\n",
        "\n",
        "# Assign the calorie estimate based on the predicted class\n",
        "calorie_estimate = calorie_estimates[predicted_class_index]\n",
        "\n",
        "# Display the result\n",
        "print(f'Predicted food: {predicted_class_label}')\n",
        "print(f'Estimated calories: {calorie_estimate} kcal')\n",
        "\n",
        "# Display the image with prediction\n",
        "img = cv2.imread(img_path)\n",
        "img = cv2.cvtColor(img, cv2.COLOR_BGR2RGB)  # Convert BGR to RGB for correct display with matplotlib\n",
        "plt.imshow(img)\n",
        "plt.title(f'{predicted_class_label} - {calorie_estimate} kcal')\n",
        "plt.axis('off')\n",
        "plt.show()\n"
      ],
      "metadata": {
        "colab": {
          "base_uri": "https://localhost:8080/",
          "height": 479
        },
        "id": "PG7UaRRCf8kb",
        "outputId": "fe8015db-3cf9-42f7-eda6-edfbcedf04ce"
      },
      "execution_count": 39,
      "outputs": [
        {
          "output_type": "stream",
          "name": "stdout",
          "text": [
            "\u001b[1m1/1\u001b[0m \u001b[32m━━━━━━━━━━━━━━━━━━━━\u001b[0m\u001b[37m\u001b[0m \u001b[1m0s\u001b[0m 32ms/step\n",
            "Predicted food: clam_chowder\n",
            "Estimated calories: 200 kcal\n"
          ]
        },
        {
          "output_type": "display_data",
          "data": {
            "text/plain": [
              "<Figure size 640x480 with 1 Axes>"
            ],
            "image/png": "[encoded data removed]"
          },
          "metadata": {}
        }
      ]
    },
    {
      "cell_type": "code",
      "source": [],
      "metadata": {
        "id": "SR4oIgb2gT6w"
      },
      "execution_count": null,
      "outputs": []
    }
  ],
  "metadata": {
    "colab": {
      "provenance": []
    },
    "kernelspec": {
      "display_name": "Python 3",
      "name": "python3"
    },
    "language_info": {
      "codemirror_mode": {
        "name": "ipython",
        "version": 3
      },
      "file_extension": ".py",
      "mimetype": "text/x-python",
      "name": "python",
      "nbconvert_exporter": "python",
      "pygments_lexer": "ipython3",
      "version": "3.11.10"
    }
  },
  "nbformat": 4,
  "nbformat_minor": 0
}